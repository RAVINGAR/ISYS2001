{
  "cells": [
    {
      "cell_type": "markdown",
      "metadata": {
        "id": "view-in-github",
        "colab_type": "text"
      },
      "source": [
        "<a href=\"https://colab.research.google.com/github/RAVINGAR/ISYS2001/blob/main/Week1_Budget_Tracker.ipynb\" target=\"_parent\"><img src=\"https://colab.research.google.com/assets/colab-badge.svg\" alt=\"Open In Colab\"/></a>"
      ]
    },
    {
      "cell_type": "markdown",
      "id": "45b851c9",
      "metadata": {
        "id": "45b851c9"
      },
      "source": [
        "# Mini Project 01: AI-Powered Budget Tracker\n",
        "# ISYS2001 Introduction to Business Programming\n",
        "\n",
        "**Instructions:**\n",
        "1. Save a copy of this notebook to your Google Drive (File > Save a copy in Drive)  \n",
        "2. Rename it to include your name: `Week1_Budget_Tracker_[YourName]`  \n",
        "3. Complete all sections and code cells  \n",
        "4. Document your AI interactions as you go\n"
      ]
    },
    {
      "cell_type": "markdown",
      "id": "a60fc4c8",
      "metadata": {
        "id": "a60fc4c8"
      },
      "source": [
        "## Part 1: Environment Setup and First Steps"
      ]
    },
    {
      "cell_type": "code",
      "execution_count": null,
      "id": "2e576bd1",
      "metadata": {
        "id": "2e576bd1",
        "colab": {
          "base_uri": "https://localhost:8080/"
        },
        "outputId": "50648491-b2f3-436e-bc47-749155a2b8d0"
      },
      "outputs": [
        {
          "output_type": "stream",
          "name": "stdout",
          "text": [
            "🎉 Welcome to ISYS2001: Introduction to Business Programming!\n",
            "📊 Project: Personal Finance Assistant\n",
            "🤖 Today's Goal: Build a Simple Budget Tracker with AI Help\n",
            "\n",
            "📅 Worksheet started at: 2025-07-30 02:36:42\n"
          ]
        }
      ],
      "source": [
        "# Run this cell to test your environment\n",
        "print(\"🎉 Welcome to ISYS2001: Introduction to Business Programming!\")\n",
        "print(\"📊 Project: Personal Finance Assistant\")\n",
        "print(\"🤖 Today's Goal: Build a Simple Budget Tracker with AI Help\")\n",
        "\n",
        "# Import datetime to timestamp your work\n",
        "from datetime import datetime\n",
        "print(f\"\\n📅 Worksheet started at: {datetime.now().strftime('%Y-%m-%d %H:%M:%S')}\")"
      ]
    },
    {
      "cell_type": "markdown",
      "id": "7ac0ada2",
      "metadata": {
        "id": "7ac0ada2"
      },
      "source": [
        "## Part 2: Your First AI Prompt\n",
        "\n",
        "Use an AI assistant (Gemini in Colab, ChatGPT, or GitHub Copilot) to create a program that:\n",
        "- Asks the user for their name\n",
        "- Asks for their monthly income  \n",
        "- Prints a personalized welcome message\n",
        "\n",
        "### 📝 Document Your AI Prompt Below:"
      ]
    },
    {
      "cell_type": "code",
      "execution_count": null,
      "id": "62045e66",
      "metadata": {
        "id": "62045e66",
        "colab": {
          "base_uri": "https://localhost:8080/"
        },
        "outputId": "b93c78d4-face-4def-baed-b0d02595d106"
      },
      "outputs": [
        {
          "output_type": "stream",
          "name": "stdout",
          "text": [
            "Please enter your name: Jordan\n",
            "Please enter your monthly income: idk\n",
            "Invalid input. Please enter a valid number for your income.\n",
            "Please enter your monthly income: 100\n",
            "\n",
            "Hello, Jordan! Welcome.\n",
            "Your recorded monthly income is: $100.00\n"
          ]
        }
      ],
      "source": [
        "# TASK: Write your AI prompt as a comment below\n",
        "\"\"\"\n",
        "My AI Prompt:\n",
        " Can you write a python program that asks the user for their name, their\n",
        " monthly income and stores it as a variable. At the end of the program,\n",
        " a personalised welcome message should be printed.\n",
        "\"\"\"\n",
        "\n",
        "# This program asks the user for their name and monthly income,\n",
        "# then prints a personalized welcome message.\n",
        "\n",
        "def welcome_user():\n",
        "  \"\"\"\n",
        "  Gets user's name and income and prints a welcome message.\n",
        "  \"\"\"\n",
        "  # Ask the user for their name and store it in a variable.\n",
        "  name = input(\"Please enter your name: \")\n",
        "\n",
        "  # Ask the user for their monthly income and store it.\n",
        "  # We use a try-except block to handle cases where the user\n",
        "  # might not enter a valid number.\n",
        "  while True:\n",
        "    try:\n",
        "      monthly_income_str = input(\"Please enter your monthly income: \")\n",
        "      # Convert the input string to a floating-point number\n",
        "      monthly_income = float(monthly_income_str)\n",
        "      break # Exit the loop if conversion is successful\n",
        "    except ValueError:\n",
        "      print(\"Invalid input. Please enter a valid number for your income.\")\n",
        "\n",
        "  # Print the personalized welcome message.\n",
        "  # The f-string (formatted string literal) allows us to embed expressions\n",
        "  # inside string literals.\n",
        "  print(f\"\\nHello, {name}! Welcome.\")\n",
        "  print(f\"Your recorded monthly income is: ${monthly_income:,.2f}\")\n",
        "\n",
        "# Run the function\n",
        "if __name__ == \"__main__\":\n",
        "  welcome_user()"
      ]
    },
    {
      "cell_type": "markdown",
      "id": "daaaec49",
      "metadata": {
        "id": "daaaec49"
      },
      "source": [
        "### 🔍 Evidence Package Entry #1"
      ]
    },
    {
      "cell_type": "code",
      "execution_count": null,
      "id": "667d3549",
      "metadata": {
        "id": "667d3549",
        "colab": {
          "base_uri": "https://localhost:8080/"
        },
        "outputId": "7cb7744a-1a50-4984-a89c-ad7af4e46be7"
      },
      "outputs": [
        {
          "output_type": "stream",
          "name": "stdout",
          "text": [
            "📋 EVIDENCE PACKAGE #1\n",
            "timestamp: 2025-07-30 02:41:57\n",
            "context: I wanted to create a simple input/output program to practice AI prompting\n",
            "ai_tool_used: Gemini\n",
            "what_worked: The AI understood my request and successfully created the given function. As a bonus it even added error handling for monthly income, ensuring that the given input was a number. This is something that I didn't explicitly ask it to do but it's still a welcome addition.\n",
            "what_didnt: I had to clarify nothing luckily.\n",
            "what_i_learned: I learned that specific prompts require explicit definition.\n"
          ]
        }
      ],
      "source": [
        "# Evidence Package Documentation\n",
        "evidence_1 = {\n",
        "    \"timestamp\": datetime.now().strftime('%Y-%m-%d %H:%M:%S'),\n",
        "    \"context\": \"I wanted to create a simple input/output program to practice AI prompting\",\n",
        "    \"ai_tool_used\": \"Gemini\",\n",
        "    \"what_worked\": \"The AI understood my request and successfully created the given function. As a bonus it even added error handling for monthly income, ensuring that the given input was a number. This is something that I didn't explicitly ask it to do but it's still a welcome addition.\",\n",
        "    \"what_didnt\": \"I had to clarify nothing luckily.\",\n",
        "    \"what_i_learned\": \"I learned that specific prompts require explicit definition.\"\n",
        "}\n",
        "\n",
        "# Display your evidence\n",
        "print(\"📋 EVIDENCE PACKAGE #1\")\n",
        "for key, value in evidence_1.items():\n",
        "    print(f\"{key}: {value}\")"
      ]
    },
    {
      "cell_type": "markdown",
      "id": "182c831f",
      "metadata": {
        "id": "182c831f"
      },
      "source": [
        "## Part 3: Building the Budget Tracker\n",
        "\n",
        "Use AI to help you write a program that:\n",
        "- Allows users to input their monthly income\n",
        "- Allows users to input up to 3 expenses  \n",
        "- Calculates remaining budget\n",
        "- Shows a warning if budget is negative\n",
        "\n",
        "### 💡 Pro Tip: Be specific about requirements!"
      ]
    },
    {
      "cell_type": "code",
      "execution_count": null,
      "id": "74e672e3",
      "metadata": {
        "id": "74e672e3",
        "colab": {
          "base_uri": "https://localhost:8080/",
          "height": 73
        },
        "outputId": "a3494ec0-c77f-4f04-de44-dcbe16296131"
      },
      "outputs": [
        {
          "output_type": "execute_result",
          "data": {
            "text/plain": [
              "'\\nMy Budget Tracker Prompt:\\nCan you write a python program that asks the user for their name, their \\n monthly income and stores it as a variable. At the end of the program, \\n a personalised welcome message should be printed.\\n'"
            ],
            "application/vnd.google.colaboratory.intrinsic+json": {
              "type": "string"
            }
          },
          "metadata": {},
          "execution_count": 8
        }
      ],
      "source": [
        "# TASK: Write your detailed prompt for the budget tracker\n",
        "\"\"\"\n",
        "My Budget Tracker Prompt:\n",
        "Can you write a python program that asks the user for their name, their\n",
        "monthly income and stores it as a variable. At the end of the program,\n",
        "a personalised welcome message should be printed.\n",
        "\n",
        "<previous prompt>\n",
        "\n",
        "Can we extend the previous program after the welcome message is displayed\n",
        "and allow the user to enter up to 3 expenses and then calculate and report\n",
        "the remaining budget. The program should show an additional warning if budget\n",
        "is negative.\n",
        "\"\"\""
      ]
    },
    {
      "cell_type": "markdown",
      "id": "4bcfacf4",
      "metadata": {
        "id": "4bcfacf4"
      },
      "source": [
        "### Paste and Test Your AI-Generated Budget Tracker"
      ]
    },
    {
      "cell_type": "code",
      "execution_count": null,
      "id": "2501e778",
      "metadata": {
        "id": "2501e778",
        "colab": {
          "base_uri": "https://localhost:8080/"
        },
        "outputId": "aa141bf2-1db0-4b65-a824-dbe9ce3a78d4"
      },
      "outputs": [
        {
          "output_type": "stream",
          "name": "stdout",
          "text": [
            "Please enter your name: Jordan\n",
            "Please enter your monthly income: 200\n",
            "\n",
            "Hello, Jordan! Welcome.\n",
            "Your recorded monthly income is: $200.00\n",
            "------------------------------\n",
            "\n",
            "Now, let's enter up to 3 of your monthly expenses.\n",
            "You can type 'done' at any time to finish entering expenses.\n",
            "Enter expense #1 (or 'done' to finish): idk\n",
            "That's not a valid number. This expense will be skipped.\n",
            "Enter expense #2 (or 'done' to finish): 50\n",
            "Enter expense #3 (or 'done' to finish): 20\n",
            "\n",
            "--- Your Budget Report ---\n",
            "Total Expenses Entered: $70.00\n",
            "Remaining Budget: $130.00\n",
            "--------------------------\n",
            "\n",
            "Great job staying on budget this month! 👍\n"
          ]
        }
      ],
      "source": [
        "# AI-GENERATED BUDGET TRACKER CODE\n",
        "# This program asks for user's name, income, and expenses,\n",
        "# then calculates and reports the remaining budget.\n",
        "\n",
        "def budget_calculator():\n",
        "  \"\"\"\n",
        "  Gets user data, calculates, and reports their monthly budget.\n",
        "  \"\"\"\n",
        "  # --- Part 1: Get User Info ---\n",
        "  name = input(\"Please enter your name: \")\n",
        "\n",
        "  while True:\n",
        "    try:\n",
        "      monthly_income_str = input(\"Please enter your monthly income: \")\n",
        "      monthly_income = float(monthly_income_str)\n",
        "      break\n",
        "    except ValueError:\n",
        "      print(\"Invalid input. Please enter a valid number for your income.\")\n",
        "\n",
        "  # --- Part 2: Welcome Message ---\n",
        "  print(f\"\\nHello, {name}! Welcome.\")\n",
        "  print(f\"Your recorded monthly income is: ${monthly_income:,.2f}\")\n",
        "  print(\"-\" * 30) # Prints a separator line\n",
        "\n",
        "  # --- Part 3: Get Expenses ---\n",
        "  expenses = []\n",
        "  print(\"\\nNow, let's enter up to 3 of your monthly expenses.\")\n",
        "  print(\"You can type 'done' at any time to finish entering expenses.\")\n",
        "\n",
        "  for i in range(3):\n",
        "    expense_input = input(f\"Enter expense #{i+1} (or 'done' to finish): \")\n",
        "\n",
        "    # Allow the user to finish early\n",
        "    if expense_input.lower() == 'done':\n",
        "      break\n",
        "\n",
        "    # Validate that the input is a number and add it to the list\n",
        "    try:\n",
        "      expense_amount = float(expense_input)\n",
        "      expenses.append(expense_amount)\n",
        "    except ValueError:\n",
        "      print(\"That's not a valid number. This expense will be skipped.\")\n",
        "\n",
        "  # --- Part 4: Calculate and Report Budget ---\n",
        "  total_expenses = sum(expenses)\n",
        "  remaining_budget = monthly_income - total_expenses\n",
        "\n",
        "  print(\"\\n--- Your Budget Report ---\")\n",
        "  print(f\"Total Expenses Entered: ${total_expenses:,.2f}\")\n",
        "  print(f\"Remaining Budget: ${remaining_budget:,.2f}\")\n",
        "  print(\"--------------------------\")\n",
        "\n",
        "  # Add a warning if the budget is negative\n",
        "  if remaining_budget < 0:\n",
        "    print(\"\\n⚠️ Warning: Your expenses are higher than your income!\")\n",
        "  else:\n",
        "    print(\"\\nGreat job staying on budget this month! 👍\")\n",
        "\n",
        "\n",
        "# Run the main function\n",
        "if __name__ == \"__main__\":\n",
        "  budget_calculator()\n",
        "\n",
        "### **How the New Code Works**\n",
        "\n",
        "# 1.  **Collect Expenses**: After the welcome message, a `for` loop runs up to 3 times. It prompts the user to enter an expense amount. The amounts are stored in a list called `expenses`.\n",
        "# 2.  **Finish Early**: The user can type `done` at any prompt to stop entering expenses before they've entered all 3.\n",
        "# 3.  **Calculate Totals**: The program uses the `sum()` function to easily add up all the numbers in the `expenses` list. It then subtracts this total from the `monthly_income` to find the `remaining_budget`.\n",
        "# 4.  **Display Report**: A final budget report is printed, showing the total expenses and the money left over.\n",
        "# 5.  **Conditional Warning**: An `if` statement checks if the `remaining_budget` is less than zero. If it is, a warning message is displayed. Otherwise, a positive encouragement message is sho"
      ]
    },
    {
      "cell_type": "markdown",
      "id": "f541d525",
      "metadata": {
        "id": "f541d525"
      },
      "source": [
        "### 🐛 Debugging and Refinement"
      ]
    },
    {
      "cell_type": "code",
      "execution_count": 1,
      "id": "3f624a27",
      "metadata": {
        "id": "3f624a27",
        "colab": {
          "base_uri": "https://localhost:8080/"
        },
        "outputId": "3f795e91-89df-426a-ae37-5d67c7a349b7"
      },
      "outputs": [
        {
          "output_type": "stream",
          "name": "stdout",
          "text": [
            "🔧 DEBUGGING NOTES:\n",
            "- Issue 1: When adding expenses if you add an invalid input, it will skip that expense. It would be better to have it ask for you to try again rather than skip it entirely.\n",
            "- Fix 1: Added a while loop method within the for loop itself, similar to how it's done for getting the monthly income. Shuffled some other code around.\n"
          ]
        }
      ],
      "source": [
        "# Document any issues and fixes\n",
        "issues_found = [\n",
        "    \"Issue 1: When adding expenses if you add an invalid input, it will skip that expense. It would be better to have it ask for you to try again rather than skip it entirely.\",\n",
        "    \"Fix 1: Added a while loop method within the for loop itself, similar to how it's done for getting the monthly income. Shuffled some other code around.\",\n",
        "    # Add more as needed\n",
        "]\n",
        "\n",
        "print(\"🔧 DEBUGGING NOTES:\")\n",
        "for item in issues_found:\n",
        "    print(f\"- {item}\")"
      ]
    },
    {
      "cell_type": "code",
      "execution_count": null,
      "id": "0772261d",
      "metadata": {
        "id": "0772261d",
        "colab": {
          "base_uri": "https://localhost:8080/"
        },
        "outputId": "31d68bf6-5de3-4077-faff-33771b7a0b7a"
      },
      "outputs": [
        {
          "output_type": "stream",
          "name": "stdout",
          "text": [
            "Please enter your name: Jordan\n",
            "Please enter your monthly income: 200\n",
            "\n",
            "Hello, Jordan! Welcome.\n",
            "Your recorded monthly income is: $200.00\n",
            "------------------------------\n",
            "\n",
            "Now, let's enter up to 3 of your monthly expenses.\n",
            "You can type 'done' at any time to finish entering expenses.\n",
            "Enter expense #1 (or 'done' to finish): 50\n",
            "Enter expense #2 (or 'done' to finish): idk\n",
            "That's not a valid number. This expense will be skipped.\n",
            "Enter expense #2 (or 'done' to finish): 50\n",
            "Enter expense #3 (or 'done' to finish): 50\n",
            "\n",
            "--- Your Budget Report ---\n",
            "Total Expenses Entered: $150.00\n",
            "Remaining Budget: $50.00\n",
            "--------------------------\n",
            "\n",
            "Great job staying on budget this month! 👍\n"
          ]
        }
      ],
      "source": [
        "# REFINED VERSION - Your Working Budget Tracker\n",
        "def budget_calculator():\n",
        "  \"\"\"\n",
        "  Gets user data, calculates, and reports their monthly budget.\n",
        "  \"\"\"\n",
        "  # --- Part 1: Get User Info ---\n",
        "  name = input(\"Please enter your name: \")\n",
        "\n",
        "  while True:\n",
        "    try:\n",
        "      monthly_income_str = input(\"Please enter your monthly income: \")\n",
        "      monthly_income = float(monthly_income_str)\n",
        "      if(monthly_income < 0):\n",
        "        print(\"Monthly income cannot be a number less than 0! Please enter a valid number for your income.\")\n",
        "      else:\n",
        "        break\n",
        "    except ValueError:\n",
        "      print(\"Invalid input. Please enter a valid number for your income.\")\n",
        "\n",
        "  # --- Part 2: Welcome Message ---\n",
        "  print(f\"\\nHello, {name}! Welcome.\")\n",
        "  print(f\"Your recorded monthly income is: ${monthly_income:,.2f}\")\n",
        "  print(\"-\" * 30) # Prints a separator line\n",
        "\n",
        "  # --- Part 3: Get Expenses ---\n",
        "  expenses = []\n",
        "  print(\"\\nNow, let's enter up to 3 of your monthly expenses.\")\n",
        "  print(\"You can type 'done' at any time to finish entering expenses.\")\n",
        "\n",
        "  for i in range(3):\n",
        "    # Validate that the input is a number and add it to the list\n",
        "    while True:\n",
        "      expense_input = input(f\"Enter expense #{i+1} (or 'done' to finish): \")\n",
        "      # Allow the user to finish early\n",
        "      if expense_input.lower() == 'done':\n",
        "        break\n",
        "      try:\n",
        "        expense_amount = float(expense_input)\n",
        "        expenses.append(expense_amount)\n",
        "        break\n",
        "      except ValueError:\n",
        "        print(\"That's not a valid number. Please try again!\")\n",
        "\n",
        "  # --- Part 4: Calculate and Report Budget ---\n",
        "  total_expenses = sum(expenses)\n",
        "  remaining_budget = monthly_income - total_expenses\n",
        "\n",
        "  print(\"\\n--- Your Budget Report ---\")\n",
        "  print(f\"Total Expenses Entered: ${total_expenses:,.2f}\")\n",
        "  print(f\"Remaining Budget: ${remaining_budget:,.2f}\")\n",
        "  print(\"--------------------------\")\n",
        "\n",
        "  # Add a warning if the budget is negative\n",
        "  if remaining_budget < 0:\n",
        "    print(\"\\n⚠️ Warning: Your expenses are higher than your income!\")\n",
        "  else:\n",
        "    print(\"\\nGreat job staying on budget this month! 👍\")\n",
        "\n",
        "\n",
        "# Run the main function\n",
        "if __name__ == \"__main__\":\n",
        "  budget_calculator()"
      ]
    },
    {
      "cell_type": "markdown",
      "id": "ca842a66",
      "metadata": {
        "id": "ca842a66"
      },
      "source": [
        "## Part 4: Enhancement Challenge\n",
        "\n",
        "Choose ONE feature to add using AI assistance:\n",
        "- 🏷️ Expense categories (food, transport, entertainment)\n",
        "- 📊 Show percentage of income spent\n",
        "- ✅ Input validation (no negative numbers)\n",
        "- 📝 Detailed budget summary with advice"
      ]
    },
    {
      "cell_type": "code",
      "execution_count": null,
      "id": "fbd649d2",
      "metadata": {
        "id": "fbd649d2"
      },
      "outputs": [],
      "source": [
        "# Document your enhancement\n",
        "enhancement_choice = \"I chose to add: Input Validation\"\n",
        "enhancement_prompt = \"\"\"\n",
        "Can you add input validation for any number input.\n",
        "\"\"\"\n",
        "\n",
        "print(f\"🚀 ENHANCEMENT: {enhancement_choice}\")"
      ]
    },
    {
      "cell_type": "code",
      "execution_count": null,
      "id": "b12879f3",
      "metadata": {
        "id": "b12879f3"
      },
      "outputs": [],
      "source": [
        "# ENHANCED BUDGET TRACKER\n",
        "# REFINED VERSION - Your Working Budget Tracker\n",
        "def budget_calculator():\n",
        "  \"\"\"\n",
        "  Gets user data, calculates, and reports their monthly budget.\n",
        "  \"\"\"\n",
        "  # --- Part 1: Get User Info ---\n",
        "  name = input(\"Please enter your name: \")\n",
        "\n",
        "  while True:\n",
        "    try:\n",
        "      monthly_income_str = input(\"Please enter your monthly income: \")\n",
        "      monthly_income = float(monthly_income_str)\n",
        "      break\n",
        "    except ValueError:\n",
        "      print(\"Invalid input. Please enter a valid number for your income.\")\n",
        "\n",
        "  # --- Part 2: Welcome Message ---\n",
        "  print(f\"\\nHello, {name}! Welcome.\")\n",
        "  print(f\"Your recorded monthly income is: ${monthly_income:,.2f}\")\n",
        "  print(\"-\" * 30) # Prints a separator line\n",
        "\n",
        "  # --- Part 3: Get Expenses ---\n",
        "  expenses = []\n",
        "  print(\"\\nNow, let's enter up to 3 of your monthly expenses.\")\n",
        "  print(\"You can type 'done' at any time to finish entering expenses.\")\n",
        "\n",
        "  for i in range(3):\n",
        "    # Validate that the input is a number and add it to the list\n",
        "    while True:\n",
        "      expense_input = input(f\"Enter expense #{i+1} (or 'done' to finish): \")\n",
        "      # Allow the user to finish early\n",
        "      if expense_input.lower() == 'done':\n",
        "        break\n",
        "      try:\n",
        "        expense_amount = float(expense_input)\n",
        "        if(expense_amount < 0):\n",
        "          print(\"An expense cannot be negative! Please try again.\")\n",
        "        else:\n",
        "          expenses.append(expense_amount)\n",
        "          break\n",
        "      except ValueError:\n",
        "        print(\"That's not a valid number.\")\n",
        "\n",
        "  # --- Part 4: Calculate and Report Budget ---\n",
        "  total_expenses = sum(expenses)\n",
        "  remaining_budget = monthly_income - total_expenses\n",
        "\n",
        "  print(\"\\n--- Your Budget Report ---\")\n",
        "  print(f\"Total Expenses Entered: ${total_expenses:,.2f}\")\n",
        "  print(f\"Remaining Budget: ${remaining_budget:,.2f}\")\n",
        "  print(\"--------------------------\")\n",
        "\n",
        "  # Add a warning if the budget is negative\n",
        "  if remaining_budget < 0:\n",
        "    print(\"\\n⚠️ Warning: Your expenses are higher than your income!\")\n",
        "  else:\n",
        "    print(\"\\nGreat job staying on budget this month! 👍\")\n",
        "\n",
        "\n",
        "# Run the main function\n",
        "if __name__ == \"__main__\":\n",
        "  budget_calculator()"
      ]
    },
    {
      "cell_type": "markdown",
      "id": "cfa2845b",
      "metadata": {
        "id": "cfa2845b"
      },
      "source": [
        "## Part 5: Reflection and Lab Exit Ticket Preparation"
      ]
    },
    {
      "cell_type": "code",
      "execution_count": null,
      "id": "220ff6b4",
      "metadata": {
        "id": "220ff6b4",
        "colab": {
          "base_uri": "https://localhost:8080/"
        },
        "outputId": "1074eeae-a6f9-41b0-bf79-28963be7b25d"
      },
      "outputs": [
        {
          "output_type": "stream",
          "name": "stdout",
          "text": [
            "📋 EVIDENCE PACKAGE #2 (Final)\n",
            "timestamp: 2025-07-30 02:58:58\n",
            "context: Creating the full budget tracker with enhancements\n",
            "ai_tool_used: Gemini\n",
            "prompts_used: 3\n",
            "iterations_needed: 2\n",
            "final_reflection: AI-Assisted programming can speed up the time it takes to program a simple program that would otherwise take a lot longer to write4 by hand.\n"
          ]
        }
      ],
      "source": [
        "# Final Evidence Package Summary\n",
        "evidence_2 = {\n",
        "    \"timestamp\": datetime.now().strftime('%Y-%m-%d %H:%M:%S'),\n",
        "    \"context\": \"Creating the full budget tracker with enhancements\",\n",
        "    \"ai_tool_used\": \"Gemini\",\n",
        "    \"prompts_used\": 3,\n",
        "    \"iterations_needed\": 2,\n",
        "    \"final_reflection\": \"AI-Assisted programming can speed up the time it takes to program a simple program that would otherwise take a lot longer to write4 by hand.\"\n",
        "}\n",
        "\n",
        "print(\"📋 EVIDENCE PACKAGE #2 (Final)\")\n",
        "for key, value in evidence_2.items():\n",
        "    print(f\"{key}: {value}\")"
      ]
    },
    {
      "cell_type": "markdown",
      "id": "69d17be0",
      "metadata": {
        "id": "69d17be0"
      },
      "source": [
        "## 🎯 Submission Checklist\n",
        "\n",
        "Before submitting:\n",
        "- ✅ All code cells run without errors\n",
        "- ✅ You've documented at least 2 AI interactions  \n",
        "- ✅ Budget tracker accepts income and 3+ expenses\n",
        "- ✅ Completed both Evidence Packages\n",
        "- ✅ Attempted the enhancement challenge\n",
        "- ✅ Reflected on your AI collaboration experience"
      ]
    },
    {
      "cell_type": "code",
      "execution_count": null,
      "id": "0d85c2f1",
      "metadata": {
        "id": "0d85c2f1",
        "colab": {
          "base_uri": "https://localhost:8080/"
        },
        "outputId": "c949eb98-a825-40ce-fb2d-2eae7e738778"
      },
      "outputs": [
        {
          "output_type": "stream",
          "name": "stdout",
          "text": [
            "==================================================\n",
            "WEEK 1 WORKSHEET COMPLETION SUMMARY\n",
            "==================================================\n",
            "Student Name: [Your Name]\n",
            "Completion Time: 2025-07-30 02:59:13\n",
            "\n",
            "Core Features Implemented:\n",
            "✅ Basic income/expense input\n",
            "✅ Budget calculation\n",
            "✅ Warning for negative budget\n",
            "✅ Enhancement: [Your enhancement]\n",
            "\n",
            "AI Collaboration Stats:\n",
            "- AI tools used: [List them]\n",
            "- Number of prompts: [Count]\n",
            "- Success rate: [Estimate]%\n",
            "\n",
            "🎉 Ready for Lab Exit Ticket submission!\n"
          ]
        }
      ],
      "source": [
        "# Generate submission summary\n",
        "print(\"=\"*50)\n",
        "print(\"WEEK 1 WORKSHEET COMPLETION SUMMARY\")\n",
        "print(\"=\"*50)\n",
        "print(f\"Student Name: [Your Name]\")\n",
        "print(f\"Completion Time: {datetime.now().strftime('%Y-%m-%d %H:%M:%S')}\")\n",
        "print(\"\\nCore Features Implemented:\")\n",
        "print(\"✅ Basic income/expense input\")\n",
        "print(\"✅ Budget calculation\")\n",
        "print(\"✅ Warning for negative budget\")\n",
        "print(\"✅ Enhancement: [Your enhancement]\")\n",
        "print(\"\\nAI Collaboration Stats:\")\n",
        "print(f\"- AI tools used: [List them]\")\n",
        "print(f\"- Number of prompts: [Count]\")\n",
        "print(f\"- Success rate: [Estimate]%\")\n",
        "print(\"\\n🎉 Ready for Lab Exit Ticket submission!\")"
      ]
    },
    {
      "cell_type": "markdown",
      "id": "63b51742",
      "metadata": {
        "id": "63b51742"
      },
      "source": [
        "## 💭 Final Reflection Questions\n",
        "\n",
        "**1. What surprised you most about working with AI to generate code?**  \n",
        "[Your answer here]\n",
        "\n",
        "**2. What makes a good prompt vs. a poor prompt?**  \n",
        "[Your answer here]\n",
        "\n",
        "**3. How do you see AI tools fitting into your future programming workflow?**  \n",
        "[Your answer here]\n",
        "\n",
        "---\n",
        "\n",
        "### 📁 Save and Next Steps:\n",
        "1. File > Save a copy in GitHub (if you haven't already)    \n",
        "2. Prepare evidence for next lab session for the Exit Ticket  \n",
        "3. Start thinking about Week 2: Variables & Data Types!\n"
      ]
    },
    {
      "cell_type": "code",
      "source": [],
      "metadata": {
        "id": "rdAf6Gc517wB"
      },
      "id": "rdAf6Gc517wB",
      "execution_count": null,
      "outputs": []
    }
  ],
  "metadata": {
    "colab": {
      "provenance": [],
      "include_colab_link": true
    },
    "language_info": {
      "name": "python"
    },
    "kernelspec": {
      "name": "python3",
      "display_name": "Python 3"
    }
  },
  "nbformat": 4,
  "nbformat_minor": 5
}