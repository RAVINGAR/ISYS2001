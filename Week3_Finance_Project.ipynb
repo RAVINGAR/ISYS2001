{
  "cells": [
    {
      "cell_type": "markdown",
      "metadata": {
        "id": "view-in-github",
        "colab_type": "text"
      },
      "source": [
        "<a href=\"https://colab.research.google.com/github/RAVINGAR/ISYS2001/blob/main/Week3_Finance_Project.ipynb\" target=\"_parent\"><img src=\"https://colab.research.google.com/assets/colab-badge.svg\" alt=\"Open In Colab\"/></a>"
      ]
    },
    {
      "cell_type": "markdown",
      "metadata": {
        "id": "m2WIkVMIUSZ8"
      },
      "source": [
        "# Week 3 Mini-Project: Smart Budget Decisions\n",
        "\n",
        "## Project Overview\n",
        "\n",
        "This week, you'll build the **decision-making foundation** for your personal finance tracker. By the end, you'll have a program that makes smart budget decisions - the same logic patterns you learned with grade calculators, but applied to real financial scenarios.\n",
        "\n",
        "## Learning Objectives\n",
        "\n",
        "- Apply if/elif/else to financial decision making\n",
        "- Practice input validation with money amounts\n",
        "- Build reusable financial logic patterns\n",
        "- Start your semester-long finance tracker project"
      ]
    },
    {
      "cell_type": "markdown",
      "metadata": {
        "id": "Q9hIwzzqUSaA"
      },
      "source": [
        "---\n",
        "\n",
        "## Part 1: Warm-Up - Pattern Recognition (10 minutes)\n",
        "\n",
        "### From Grades to Money\n",
        "You've learned to classify test scores into letter grades. Let's apply the **exact same pattern** to classify expenses:\n",
        "\n",
        "**Grade Classifier** (familiar):\n",
        "```python\n",
        "if score >= 90:\n",
        "    grade = \"A\"\n",
        "elif score >= 80:\n",
        "    grade = \"B\"\n",
        "# ... etc\n",
        "```\n",
        "\n",
        "**Expense Classifier** (new domain, same logic):\n",
        "```python\n",
        "if amount >= 100:\n",
        "    category = \"Major Expense\"\n",
        "elif amount >= 50:\n",
        "    category = \"Moderate Expense\"\n",
        "elif amount >= 10:\n",
        "    category = \"Minor Expense\"\n",
        "else:\n",
        "    category = \"Small Purchase\"\n",
        "```\n",
        "\n",
        "**Your Task**: Write a complete expense classifier that:\n",
        "\n",
        "1. Asks user for an expense amount\n",
        "2. Classifies it using the ranges above\n",
        "3. Prints a helpful message for each category\n",
        "\n",
        "---\n",
        "\n",
        "## Part 2: Financial Decision Logic (15 minutes)\n",
        "\n",
        "### Budget Limit Checker\n",
        "Apply your if/else skills to real budget management:"
      ]
    },
    {
      "cell_type": "code",
      "metadata": {
        "id": "NR7GJYpSUSaB",
        "colab": {
          "base_uri": "https://localhost:8080/"
        },
        "outputId": "a5a747c7-8f26-4717-cecb-909fc0c9d9e3"
      },
      "source": [
        "print(\"=== Budget Limit Checker ===\")\n",
        "\n",
        "# Get user's budget and expense\n",
        "monthly_budget = float(input(\"Enter your monthly budget: $\"))\n",
        "expense = float(input(\"Enter expense amount: $\"))\n",
        "\n",
        "# Decision logic here - you write this part!\n",
        "# If expense > 50% of budget: \"Major purchase - think carefully\"\n",
        "# If expense > 25% of budget: \"Significant expense\"\n",
        "# If expense > 10% of budget: \"Moderate expense\"\n",
        "# Otherwise: \"Minor expense - within budget\"\n",
        "message = \"\"\n",
        "if expense > monthly_budget * 0.5:\n",
        "  message = \"Major purchase - think carefully\"\n",
        "elif expense > monthly_budget * 0.25:\n",
        "  message = \"Significant expense\"\n",
        "elif expense > monthly_budget * 0.1:\n",
        "  message = \"Moderate expense\"\n",
        "else:\n",
        "  message = \"Minor expense - within budget\"\n",
        "\n",
        "\n",
        "print(\"This is classified as a: \" + message)"
      ],
      "execution_count": 1,
      "outputs": [
        {
          "output_type": "stream",
          "name": "stdout",
          "text": [
            "=== Budget Limit Checker ===\n",
            "Enter your monthly budget: $100\n",
            "Enter expense amount: $50\n",
            "This is classified as a: Significant expense\n"
          ]
        }
      ]
    },
    {
      "cell_type": "markdown",
      "metadata": {
        "id": "7QFSIplCUSaC"
      },
      "source": [
        "### Savings Goal Progress\n",
        "Use multiple conditions to track savings progress:"
      ]
    },
    {
      "cell_type": "code",
      "metadata": {
        "id": "2c8oBvIPUSaC",
        "colab": {
          "base_uri": "https://localhost:8080/"
        },
        "outputId": "67b16ba5-5e0c-41d4-d41a-333f56e041d1"
      },
      "source": [
        "print(\"=== Savings Goal Tracker ===\")\n",
        "\n",
        "goal_amount = float(input(\"Savings goal: $\"))\n",
        "current_savings = float(input(\"Current savings: $\"))\n",
        "\n",
        "# Your task: Calculate percentage and give encouraging feedback\n",
        "# 100%+: \"Goal achieved! Consider a new goal.\"\n",
        "# 75-99%: \"Almost there! You're doing great.\"\n",
        "# 50-74%: \"Halfway there - keep it up!\"\n",
        "# 25-49%: \"Good progress, stay consistent\"\n",
        "# Under 25%: \"Just getting started - you've got this!\"\n",
        "\n",
        "percentage = current_savings / goal_amount\n",
        "if percentage > 1.0:\n",
        "  print(\"Goal achieved! Consider a new goal.\")\n",
        "elif percentage >= 0.75:\n",
        "  print(\"Almost there! You're doing great.\")\n",
        "elif percentage >= 0.5:\n",
        "  print(\"Halfway there - keep it up!\")\n",
        "elif percentage >= 0.25:\n",
        "  print(\"Good progress, stay consistent\")\n",
        "else:\n",
        "  print(\"Just getting started - you've got this!\")"
      ],
      "execution_count": 4,
      "outputs": [
        {
          "output_type": "stream",
          "name": "stdout",
          "text": [
            "=== Savings Goal Tracker ===\n",
            "Savings goal: $100\n",
            "Current savings: $50\n",
            "Halfway there - keep it up!\n"
          ]
        }
      ]
    },
    {
      "cell_type": "markdown",
      "metadata": {
        "id": "rzYAsQiFUSaD"
      },
      "source": [
        "---\n",
        "\n",
        "## Part 3: Smart Purchase Advisor (20 minutes)\n",
        "\n",
        "### The Challenge\n",
        "Build a program that helps users make smart purchase decisions by considering multiple factors.\n",
        "\n",
        "### Requirements\n",
        "\n",
        "Your purchase advisor should:\n",
        "\n",
        "1. Get purchase amount and user's available money\n",
        "2. Check if they can afford it (basic affordability)\n",
        "3. Give different advice based on purchase size\n",
        "4. Consider their financial situation\n",
        "\n",
        "### Starter Framework"
      ]
    },
    {
      "cell_type": "code",
      "metadata": {
        "id": "HzbPAjN0USaD",
        "colab": {
          "base_uri": "https://localhost:8080/"
        },
        "outputId": "8c9ed9b2-9506-4308-e7e6-eedffba7d732"
      },
      "source": [
        "print(\"=== Smart Purchase Advisor ===\")\n",
        "\n",
        "# Get financial information\n",
        "available_money = float(input(\"How much money do you have available? $\"))\n",
        "purchase_price = float(input(\"How much does the item cost? $\"))\n",
        "monthly_income = float(input(\"What's your monthly income? $\"))\n",
        "\n",
        "# Calculate affordability percentage\n",
        "affordability_ratio = purchase_price / available_money\n",
        "# Calculate how the price compares to a full month of income.\n",
        "price_to_income_ratio = purchase_price / monthly_income\n",
        "\n",
        "# Your task: Build the decision logic\n",
        "# Consider:\n",
        "# - Can they afford it at all?\n",
        "# - Is it a large percentage of their available money?\n",
        "# - Is it reasonable compared to their income?\n",
        "# - What advice should you give?\n",
        "\n",
        "# Suggestion: Use multiple if/elif conditions to give personalised advice\n",
        "print(\"\\n=== Advice ===\")\n",
        "if purchase_price > available_money:\n",
        "    print(\"🔴 You cannot afford this item right now.\")\n",
        "    print(f\"You need ${purchase_price - available_money:.2f} more to make this purchase.\")\n",
        "else:\n",
        "    if affordability_ratio > 0.75:\n",
        "        print(\"🟡 This is a major purchase, using over 75% of your available cash.\")\n",
        "        print(\"This is a high-risk purchase. We strongly advise against it unless it's an absolute necessity.\")\n",
        "        if price_to_income_ratio > 0.5:\n",
        "            print(\"It also costs more than half of your monthly income. It may be wiser to save for a few more months.\")\n",
        "    elif affordability_ratio > 0.50:\n",
        "        print(\"🟡 This is a significant purchase, using more than half of your available cash.\")\n",
        "        print(\"Think carefully about this decision. Is it a 'want' or a 'need'? Consider waiting a week before buying.\")\n",
        "\n",
        "    # Case 3: The purchase is a noticeable, but not huge, part of their savings.\n",
        "    elif affordability_ratio > 0.25:\n",
        "        print(\"🟢 This seems like a reasonable purchase for your budget\")\n",
        "        print(\"It's affordable, but make sure it fits within your budget without impacting other financial goals (like bills or savings).\")\n",
        "\n",
        "    # Case 4: The purchase is a small fraction of their available money.\n",
        "    else:\n",
        "        print(\"🟢 This is a minor expense - go for it!\")\n",
        "        print(\"It's unlikely to have a major impact on your financial standing. Enjoy!\")"
      ],
      "execution_count": 7,
      "outputs": [
        {
          "output_type": "stream",
          "name": "stdout",
          "text": [
            "=== Smart Purchase Advisor ===\n",
            "How much money do you have available? $500\n",
            "How much does the item cost? $200\n",
            "What's your monthly income? $100\n",
            "🟢 This seems like a reasonable purchase for your budget\n",
            "It's affordable, but make sure it fits within your budget without impacting other financial goals (like bills or savings).\n"
          ]
        }
      ]
    },
    {
      "cell_type": "markdown",
      "metadata": {
        "id": "_tC5axg-USaF"
      },
      "source": [
        "### Sample Decision Logic to Implement\n",
        "\n",
        "- **Can't afford**: \"Save up first - you need $X more\"\n",
        "- **Can afford but expensive**: \"You can afford it, but it's Y% of your available money. Consider waiting.\"\n",
        "- **Reasonable purchase**: \"This seems like a reasonable purchase for your budget\"\n",
        "- **Small purchase**: \"This is a minor expense - go for it!\"\n",
        "\n",
        "### Bonus Challenges\n",
        "\n",
        "If you finish early, add these features:\n",
        "\n",
        "1. **Emergency fund check**: Warn if purchase would drain emergency savings\n",
        "2. **Category-based advice**: Different advice for necessities vs luxuries\n",
        "3. **Payment plan calculator**: Show monthly payment options for large purchases\n",
        "\n",
        "---\n",
        "\n",
        "## Part 4: Building Your Finance Tracker Foundation (15 minutes)\n",
        "\n",
        "### Start Your Semester Project\n",
        "\n",
        "Create a new notebook called \"Personal_Finance_Tracker\" and build the foundation:"
      ]
    },
    {
      "cell_type": "code",
      "metadata": {
        "id": "dAYWWTPHUSaH",
        "colab": {
          "base_uri": "https://localhost:8080/"
        },
        "outputId": "6bc26ad8-270b-42e3-d34d-1514f05ad38a"
      },
      "source": [
        "print(\"=== Personal Finance Tracker v0.1 ===\")\n",
        "print(\"Week 3: Smart Budget Decisions\")\n",
        "print()\n",
        "\n",
        "# User setup\n",
        "name = input(\"Enter your name: \")\n",
        "monthly_income = float(input(\"What's your monthly income? $\"))\n",
        "available_money = float(input(\"How much money do you have available? $\"))\n",
        "\n",
        "print(f\"\\nWelcome to your finance tracker, {name}!\")\n",
        "print(f\"Total Available Money: ${available_money:.2f}\")\n",
        "print(f\"Monthly income: ${monthly_income:.2f}\")\n",
        "\n",
        "# This week's feature: Expense categorisation\n",
        "print(\"\\n=== Expense Entry ===\")\n",
        "expenses = []\n",
        "print(\"\\nNow, let's enter up to 3 of your monthly expenses.\")\n",
        "print(\"You can type 'done' at any time to finish entering expenses.\")\n",
        "\n",
        "for i in range(3):\n",
        "  expense_input = input(f\"Enter expense #{i+1} (or 'done' to finish). $\")\n",
        "\n",
        "  # Allow the user to finish early\n",
        "  if expense_input.lower() == 'done':\n",
        "    break\n",
        "\n",
        "  # Validate that the input is a number and add it to the list\n",
        "  try:\n",
        "    expense_amount = float(expense_input)\n",
        "    expenses.append(expense_amount)\n",
        "  except ValueError:\n",
        "    print(\"That's not a valid number. This expense will be skipped.\")\n",
        "\n",
        "  affordability_ratio = expense_amount / available_money\n",
        "  # Calculate how the price compares to a full month of income.\n",
        "  price_to_income_ratio = expense_amount / monthly_income\n",
        "  print(\"\\n--- Advice ---\")\n",
        "  if expense_amount > available_money:\n",
        "    print(\"🔴 You cannot afford this item right now.\")\n",
        "    print(f\"You need ${expense_amount - available_money:.2f} more to make this purchase.\")\n",
        "  else:\n",
        "    if affordability_ratio > 0.75:\n",
        "        print(\"🟡 This is a major purchase, using over 75% of your available cash.\")\n",
        "        print(\"This is a high-risk purchase. We strongly advise against it unless it's an absolute necessity.\")\n",
        "        if price_to_income_ratio > 0.5:\n",
        "            print(\"It also costs more than half of your monthly income. It may be wiser to save for a few more months.\")\n",
        "    elif affordability_ratio > 0.50:\n",
        "        print(\"🟡 This is a significant purchase, using more than half of your available cash.\")\n",
        "        print(\"Think carefully about this decision. Is it a 'want' or a 'need'? Consider waiting a week before buying.\")\n",
        "        if price_to_income_ratio > 0.5:\n",
        "            print(\"It also costs more than half of your monthly income. It may be wiser to save for a few more months.\")\n",
        "    # Case 3: The purchase is a noticeable, but not huge, part of their savings.\n",
        "    elif affordability_ratio > 0.25:\n",
        "        print(\"🟢 This seems like a reasonable purchase for your budget\")\n",
        "        print(\"It's affordable, but make sure it fits within your budget without impacting other financial goals (like bills or savings).\")\n",
        "\n",
        "    # Case 4: The purchase is a small fraction of their available money.\n",
        "    else:\n",
        "        print(\"🟢 This is a minor expense\")\n",
        "        print(\"It's unlikely to have a major impact on your financial standing. Enjoy!\")\n",
        "\n",
        "  available_money -= expense_amount\n",
        "  print(f\"Total Available Money Remaining ${available_money:,.2f}\")\n",
        "\n",
        "# --- Part 4: Calculate and Report Budget ---\n",
        "total_expenses = sum(expenses)\n",
        "\n",
        "print(\"\\n=== Your Budget Report ===\")\n",
        "print(f\"Total Expenses Entered: ${total_expenses:,.2f}\")\n",
        "print(f\"Remaining Savings: ${available_money:,.2f}\")\n",
        "\n",
        "# Add a warning if the budget is negative\n",
        "if total_expenses > monthly_income:\n",
        "  print(f\"Budget Remaining : $0\")\n",
        "  print(f\"\\n⚠️ Warning: Your expenses are ${total_expenses - monthly_income:,.2f} higher than your monthly income!\")\n",
        "else:\n",
        "  print(f\"Budget Remaining : ${monthly_income - total_expenses:,.2f}\")\n",
        "  print(\"\\nGreat job staying on budget this month! 👍\")\n",
        "print(\"--------------------------\")\n",
        "\n",
        "# Apply your decision-making skills here\n",
        "# Categorise the expense and give feedback\n",
        "# This becomes the foundation you'll build on each week!"
      ],
      "execution_count": 14,
      "outputs": [
        {
          "output_type": "stream",
          "name": "stdout",
          "text": [
            "=== Personal Finance Tracker v0.1 ===\n",
            "Week 3: Smart Budget Decisions\n",
            "\n",
            "Enter your name: Jordan\n",
            "What's your monthly income? $100\n",
            "How much money do you have available? $500\n",
            "\n",
            "Welcome to your finance tracker, Jordan!\n",
            "Total Available Money: $500.00\n",
            "Monthly income: $100.00\n",
            "\n",
            "=== Expense Entry ===\n",
            "\n",
            "Now, let's enter up to 3 of your monthly expenses.\n",
            "You can type 'done' at any time to finish entering expenses.\n",
            "Enter expense #1 (or 'done' to finish). $200\n",
            "\n",
            "--- Advice ---\n",
            "🟢 This seems like a reasonable purchase for your budget\n",
            "It's affordable, but make sure it fits within your budget without impacting other financial goals (like bills or savings).\n",
            "Total Available Money Remaining $300.00\n",
            "Enter expense #2 (or 'done' to finish). $150\n",
            "\n",
            "--- Advice ---\n",
            "🟢 This seems like a reasonable purchase for your budget\n",
            "It's affordable, but make sure it fits within your budget without impacting other financial goals (like bills or savings).\n",
            "Total Available Money Remaining $150.00\n",
            "Enter expense #3 (or 'done' to finish). $200\n",
            "\n",
            "--- Advice ---\n",
            "🔴 You cannot afford this item right now.\n",
            "You need $50.00 more to make this purchase.\n",
            "Total Available Money Remaining $-50.00\n",
            "\n",
            "=== Your Budget Report ===\n",
            "Total Expenses Entered: $550.00\n",
            "Remaining Savings: $-50.00\n",
            "Budget Remaining : $0\n",
            "\n",
            "⚠️ Warning: Your expenses are $450.00 higher than your monthly income!\n",
            "--------------------------\n"
          ]
        }
      ]
    },
    {
      "cell_type": "markdown",
      "metadata": {
        "id": "58-KlCmaUSaJ"
      },
      "source": [
        "### Your Mission\n",
        "\n",
        "1. Implement the expense categorisation logic\n",
        "2. Add budget percentage calculations\n",
        "3. Give helpful feedback to the user\n",
        "4. Save this notebook - you'll expand it every week!\n",
        "\n",
        "---\n",
        "\n",
        "## Reflection Questions\n",
        "\n",
        "After completing the mini-project, consider:\n",
        "\n",
        "1. **Pattern Recognition**: How were the financial decisions similar to grade calculations?\n",
        "2. **Real-World Application**: Which financial decision logic would be most useful to you personally?\n",
        "3. **Logic Complexity**: What made some decisions harder to code than others?\n",
        "4. **Future Features**: What financial decisions would you like your tracker to help with?\n",
        "\n",
        "---\n",
        "\n",
        "## Looking Ahead\n",
        "\n",
        "### Next Week Preview\n",
        "\n",
        "Week 4 will add **loops** to your finance tracker:\n",
        "\n",
        "- Track multiple expenses in one session\n",
        "- Calculate running totals\n",
        "- Process transaction histories\n",
        "- Validate input until it's correct\n",
        "\n",
        "### Final Project Connection\n",
        "\n",
        "Each week adds new capabilities:\n",
        "\n",
        "- **Week 3**: Decision making (budget limits, categorisation)\n",
        "- **Week 4**: Repetition (multiple transactions, validation loops)\n",
        "- **Week 5**: Data storage (saving/loading financial data)\n",
        "- **Final**: AI integration (smart financial advice, pattern recognition)\n",
        "\n",
        "Your mini-projects are building blocks for something you'll actually want to use!\n",
        "\n",
        "---\n",
        "\n",
        "## Success Criteria\n",
        "\n",
        "**You'll know you're successful when**:\n",
        "- ✅ Your programs make different decisions based on financial data\n",
        "- ✅ You can explain why you chose specific budget thresholds\n",
        "- ✅ Your code handles various expense amounts appropriately\n",
        "- ✅ You see the connection between programming concepts and real financial decisions\n",
        "- ✅ You're excited about what you'll add to your tracker next week\n",
        "\n",
        "**Remember**: This is unassessed practice - focus on learning and experimenting!"
      ]
    }
  ],
  "metadata": {
    "kernelspec": {
      "display_name": "Python 3",
      "language": "python",
      "name": "python3"
    },
    "colab": {
      "provenance": [],
      "include_colab_link": true
    }
  },
  "nbformat": 4,
  "nbformat_minor": 0
}