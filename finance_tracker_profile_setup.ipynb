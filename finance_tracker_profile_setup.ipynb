{
  "nbformat": 4,
  "nbformat_minor": 0,
  "metadata": {
    "colab": {
      "provenance": [],
      "authorship_tag": "ABX9TyPPQ+hVLv/zYWCR1SoZw0y0",
      "include_colab_link": true
    },
    "kernelspec": {
      "name": "python3",
      "display_name": "Python 3"
    },
    "language_info": {
      "name": "python"
    }
  },
  "cells": [
    {
      "cell_type": "markdown",
      "metadata": {
        "id": "view-in-github",
        "colab_type": "text"
      },
      "source": [
        "<a href=\"https://colab.research.google.com/github/RAVINGAR/ISYS2001/blob/main/finance_tracker_profile_setup.ipynb\" target=\"_parent\"><img src=\"https://colab.research.google.com/assets/colab-badge.svg\" alt=\"Open In Colab\"/></a>"
      ]
    },
    {
      "cell_type": "markdown",
      "source": [
        "Prompt\n",
        "\n",
        "Can you write a python program using the given pseudo code\n",
        "\n",
        "\n",
        "1. Start the program.\n",
        "\n",
        "2. Prompt the user for their name and store it.\n",
        "\n",
        "3. Prompt for their preferred theme color and store it.\n",
        "\n",
        "4. Prompt for their primary currency and store it.\n",
        "\n",
        "5. Prompt for their main savings goal and store it.\n",
        "\n",
        "6. Construct a welcome and summary message using these inputs.\n",
        "\n",
        "7. Print the summary message.\n",
        "\n",
        "8. End the program."
      ],
      "metadata": {
        "id": "29WZZY1bY1nP"
      }
    },
    {
      "cell_type": "code",
      "execution_count": 1,
      "metadata": {
        "colab": {
          "base_uri": "https://localhost:8080/"
        },
        "id": "iufEdDdQYxyO",
        "outputId": "62685514-aa12-46d2-8e34-1815b22bee43"
      },
      "outputs": [
        {
          "output_type": "stream",
          "name": "stdout",
          "text": [
            "Welcome! Let's set up your profile.\n",
            "What is your name? Jordan\n",
            "What is your preferred theme color (e.g., blue, green, dark)? dark\n",
            "What is your primary currency (e.g., USD, EUR, JPY)? AUD\n",
            "What is your main savings goal (e.g., New Car, Vacation)? Vacation\n",
            "\n",
            "--- Your Profile Summary ---\n",
            "Hello, Jordan!\n",
            "Your personalized experience is ready.\n",
            "\n",
            "\t- Theme: dark\n",
            "\t- Currency: AUD\n",
            "\t- Savings Goal: Vacation\n",
            "\n",
            "We'll help you on your journey to saving for a Vacation!\n"
          ]
        }
      ],
      "source": [
        "# 1. Start the program.\n",
        "# This is where the Python script begins execution.\n",
        "\n",
        "def setup_user_profile():\n",
        "    \"\"\"\n",
        "    This function prompts the user for their profile information,\n",
        "    constructs a summary, and prints it to the console.\n",
        "    \"\"\"\n",
        "    print(\"Welcome! Let's set up your profile.\")\n",
        "\n",
        "    # 2. Prompt the user for their name and store it.\n",
        "    user_name = input(\"What is your name? \")\n",
        "\n",
        "    # 3. Prompt for their preferred theme color and store it.\n",
        "    theme_color = input(\"What is your preferred theme color (e.g., blue, green, dark)? \")\n",
        "\n",
        "    # 4. Prompt for their primary currency and store it.\n",
        "    currency = input(\"What is your primary currency (e.g., AUD, USD, EUR, JPY)? \")\n",
        "\n",
        "    # 5. Prompt for their main savings goal and store it.\n",
        "    savings_goal = input(\"What is your main savings goal (e.g., New Car, Vacation)? \")\n",
        "\n",
        "    # 6. Construct a welcome and summary message using these inputs.\n",
        "    summary_message = (\n",
        "        f\"\\n--- Your Profile Summary ---\\n\"\n",
        "        f\"Hello, {user_name}!\\n\"\n",
        "        f\"Your personalized experience is ready.\\n\\n\"\n",
        "        f\"\\t- Theme: {theme_color}\\n\"\n",
        "        f\"\\t- Currency: {currency}\\n\"\n",
        "        f\"\\t- Savings Goal: {savings_goal}\\n\\n\"\n",
        "        f\"We'll help you on your journey to saving for a {savings_goal}!\"\n",
        "    )\n",
        "\n",
        "    # 7. Print the summary message.\n",
        "    print(summary_message)\n",
        "\n",
        "# This line calls the main function of our program.\n",
        "setup_user_profile()\n",
        "\n",
        "# 8. End the program.\n",
        "# The script finishes execution after the function call is complete.\n"
      ]
    }
  ]
}